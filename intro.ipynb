{
 "cells": [
  {
   "cell_type": "markdown",
   "id": "4474bf29-85a6-49d6-9476-94934a5c571b",
   "metadata": {
    "tags": []
   },
   "source": [
    "## **Variables**\n",
    "Python doesn't need you to explicitly define the type of a variable when assigning a value to it. It infers the type automatically\n",
    "You can even change the type of the value assigned to a variable without any issues."
   ]
  },
  {
   "cell_type": "code",
   "execution_count": 31,
   "id": "8d29c33c-7a13-4371-962f-353b9fa1535d",
   "metadata": {},
   "outputs": [
    {
     "data": {
      "text/plain": [
       "int"
      ]
     },
     "execution_count": 31,
     "metadata": {},
     "output_type": "execute_result"
    }
   ],
   "source": [
    "a = 6\n",
    "type(a)"
   ]
  },
  {
   "cell_type": "code",
   "execution_count": 32,
   "id": "f8a6994f-deef-4c8f-b7bb-5ddf36e50753",
   "metadata": {},
   "outputs": [
    {
     "data": {
      "text/plain": [
       "str"
      ]
     },
     "execution_count": 32,
     "metadata": {},
     "output_type": "execute_result"
    }
   ],
   "source": [
    "a = \"int\"\n",
    "type(a)"
   ]
  },
  {
   "cell_type": "markdown",
   "id": "f0d7a8d8-3cff-4d71-813e-f04487695854",
   "metadata": {},
   "source": [
    "#### **Note**: 2 functions, type() and help()\n",
    "help() tells us the documentation related to that object(if present)\n",
    "type() tells us the type of the object"
   ]
  },
  {
   "cell_type": "markdown",
   "id": "8f142df7-528a-457e-a18c-0ee999e7111d",
   "metadata": {},
   "source": [
    "### Typecasting\n",
    "If you want a variable to be of a particular type, you can cast it to the type you want"
   ]
  },
  {
   "cell_type": "code",
   "execution_count": 34,
   "id": "50713032-b59f-4f8a-b1c9-db8a92936941",
   "metadata": {},
   "outputs": [],
   "source": [
    "b = int(5)\n",
    "c = int('5')"
   ]
  },
  {
   "cell_type": "code",
   "execution_count": 63,
   "id": "44aad4e6-44d7-4140-9cad-aa5cce6aebbc",
   "metadata": {},
   "outputs": [
    {
     "ename": "NameError",
     "evalue": "name 'k' is not defined",
     "output_type": "error",
     "traceback": [
      "\u001b[0;31m---------------------------------------------------------------------------\u001b[0m",
      "\u001b[0;31mNameError\u001b[0m                                 Traceback (most recent call last)",
      "Cell \u001b[0;32mIn[63], line 1\u001b[0m\n\u001b[0;32m----> 1\u001b[0m help(\u001b[43mk\u001b[49m)\n",
      "\u001b[0;31mNameError\u001b[0m: name 'k' is not defined"
     ]
    }
   ],
   "source": [
    "help(int)"
   ]
  },
  {
   "cell_type": "markdown",
   "id": "bd91e23a-bd34-4b07-8be8-38f304c85d66",
   "metadata": {},
   "source": [
    "#### **Note**: \n",
    "The '/' in the function definitions:"
   ]
  },
  {
   "cell_type": "code",
   "execution_count": 37,
   "id": "8fdc109c-71e8-4bd6-8a57-8eabc6d05f3d",
   "metadata": {},
   "outputs": [],
   "source": [
    "def myfun(a, b):\n",
    "    return a + b\n",
    "\n",
    "def myfun_bs(a, b, /):\n",
    "    return a + b"
   ]
  },
  {
   "cell_type": "code",
   "execution_count": 39,
   "id": "086f19f2-7baf-4733-a821-9227687de6b6",
   "metadata": {},
   "outputs": [
    {
     "name": "stdout",
     "output_type": "stream",
     "text": [
      "10\n",
      "8\n",
      "18\n"
     ]
    }
   ],
   "source": [
    "print(myfun(4, 6))\n",
    "print(myfun(a=5, b=3))\n",
    "print(myfun(b=8, a=10))"
   ]
  },
  {
   "cell_type": "code",
   "execution_count": 40,
   "id": "d5a98275-aecb-4efc-a6ac-8bc41d4144c1",
   "metadata": {},
   "outputs": [
    {
     "name": "stdout",
     "output_type": "stream",
     "text": [
      "10\n"
     ]
    },
    {
     "ename": "TypeError",
     "evalue": "myfun_bs() got some positional-only arguments passed as keyword arguments: 'a, b'",
     "output_type": "error",
     "traceback": [
      "\u001b[0;31m---------------------------------------------------------------------------\u001b[0m",
      "\u001b[0;31mTypeError\u001b[0m                                 Traceback (most recent call last)",
      "Cell \u001b[0;32mIn[40], line 2\u001b[0m\n\u001b[1;32m      1\u001b[0m \u001b[38;5;28mprint\u001b[39m(myfun_bs(\u001b[38;5;241m4\u001b[39m, \u001b[38;5;241m6\u001b[39m))\n\u001b[0;32m----> 2\u001b[0m \u001b[38;5;28mprint\u001b[39m(\u001b[43mmyfun_bs\u001b[49m\u001b[43m(\u001b[49m\u001b[43ma\u001b[49m\u001b[38;5;241;43m=\u001b[39;49m\u001b[38;5;241;43m5\u001b[39;49m\u001b[43m,\u001b[49m\u001b[43m \u001b[49m\u001b[43mb\u001b[49m\u001b[38;5;241;43m=\u001b[39;49m\u001b[38;5;241;43m3\u001b[39;49m\u001b[43m)\u001b[49m)\n\u001b[1;32m      3\u001b[0m \u001b[38;5;28mprint\u001b[39m(myfun_bs(b\u001b[38;5;241m=\u001b[39m\u001b[38;5;241m8\u001b[39m, a\u001b[38;5;241m=\u001b[39m\u001b[38;5;241m10\u001b[39m))\n",
      "\u001b[0;31mTypeError\u001b[0m: myfun_bs() got some positional-only arguments passed as keyword arguments: 'a, b'"
     ]
    }
   ],
   "source": [
    "print(myfun_bs(4, 6))\n",
    "print(myfun_bs(a=5, b=3))\n",
    "print(myfun_bs(b=8, a=10))"
   ]
  },
  {
   "cell_type": "markdown",
   "id": "a16a3598-ec2d-403a-98c5-e2f9568fa8fb",
   "metadata": {},
   "source": [
    "### Pattern matching in python"
   ]
  },
  {
   "cell_type": "code",
   "execution_count": 41,
   "id": "f49b8fc8-86af-41e3-98b1-37e1538a6ba5",
   "metadata": {},
   "outputs": [
    {
     "name": "stdout",
     "output_type": "stream",
     "text": [
      "b is 3\n",
      "x is tanmay and y is sahoo\n"
     ]
    }
   ],
   "source": [
    "a, b, c = 5, 3, 8\n",
    "print(f\"b is {b}\")\n",
    "\n",
    "my_list = [\"tanmay\", \"sahoo\"]\n",
    "[x, y] = my_list\n",
    "print(f\"x is {x} and y is {y}\")"
   ]
  },
  {
   "cell_type": "markdown",
   "id": "1603f628-a3d8-4d82-9725-4f7f61dbb0c1",
   "metadata": {},
   "source": [
    "#### **while, if** and **for** syntax\n",
    "\n",
    "if\n",
    "\n",
    "    if condition:\n",
    "        statement\n",
    "    elif:\n",
    "        another statement\n",
    "    else:\n",
    "        yet another statment\n",
    "shorthand if        \n",
    "\n",
    "    statement1 if condition else statement2\n",
    "while statement\n",
    "\n",
    "    while condition:\n",
    "        statement\n",
    "    else:\n",
    "        statement\n",
    "for\n",
    "\n",
    "    for i in collection:\n",
    "        statements\n",
    "        \n",
    "#### **Note**:\n",
    "range(start, end, stop) returns a collection of values and is used a lot with for loops."
   ]
  },
  {
   "cell_type": "markdown",
   "id": "90b83cba-4914-4b8e-89e0-ff3721bf639d",
   "metadata": {},
   "source": [
    "## **Basic data types in python**:\n",
    "Some of the data types that python provides us are:\n",
    "\n",
    "Text Type: str\n",
    "Numeric Types: int, float, complex\n",
    "Sequence Types: list, tuple, range\n",
    "Mapping Type: dict\n",
    "Set Types: set, frozenset\n",
    "Boolean Type: bool\n",
    "Binary Types: bytes, bytearray, memoryview\n",
    "None Type: NoneType\n",
    "(Snippet taken from https://www.w3schools.com/python/python_datatypes.asp)"
   ]
  },
  {
   "cell_type": "markdown",
   "id": "30c0cb48-be1e-40ff-9dc0-a143dde0f3a6",
   "metadata": {},
   "source": [
    "Are all of them mutable?\n",
    "\n",
    "You can use the variable names to represent a different value for any data type, however for some types the object itself can change, for some it HAS to be a new object."
   ]
  },
  {
   "cell_type": "code",
   "execution_count": 60,
   "id": "6c73a02f-b85e-4156-8c1f-a85f4c9fa176",
   "metadata": {},
   "outputs": [
    {
     "name": "stdout",
     "output_type": "stream",
     "text": [
      "140407694024064\n",
      "140407694024064\n"
     ]
    }
   ],
   "source": [
    "list_is_mutable = [\"x280\", \"p470\"]\n",
    "print(id(list_is_mutable))\n",
    "list_is_mutable += [\"p470mc8\", \"p470mc16\"]\n",
    "print(id(list_is_mutable))"
   ]
  },
  {
   "cell_type": "code",
   "execution_count": 61,
   "id": "09ffa56a-63c8-43ca-b9be-202f1e12682b",
   "metadata": {},
   "outputs": [
    {
     "name": "stdout",
     "output_type": "stream",
     "text": [
      "140407693989312\n",
      "140407694033520\n"
     ]
    }
   ],
   "source": [
    "tuple_is_not = (\"x280\", \"p470\")\n",
    "print(id(tuple_is_not))\n",
    "tuple_is_not += (\"p470mc8\", \"p470mc16\")\n",
    "print(id(tuple_is_not))"
   ]
  },
  {
   "cell_type": "markdown",
   "id": "ac67bcc1-46af-4eef-a41b-40469215e68b",
   "metadata": {},
   "source": [
    "Numbers, strings, tuples, frozen sets are immutable among the already defined types\n",
    "For user defined types, it depends on the user themselves how they want to define it"
   ]
  },
  {
   "cell_type": "markdown",
   "id": "1c0e005f-4c8f-4a8e-b160-cc3ff150e499",
   "metadata": {},
   "source": [
    "**Helpful functions**:\n",
    "isinstance and assert"
   ]
  },
  {
   "cell_type": "code",
   "execution_count": 42,
   "id": "5484afc5-8340-4b04-9c33-26a0a88162f1",
   "metadata": {},
   "outputs": [
    {
     "data": {
      "text/plain": [
       "True"
      ]
     },
     "execution_count": 42,
     "metadata": {},
     "output_type": "execute_result"
    }
   ],
   "source": [
    "isinstance(a, int)"
   ]
  },
  {
   "cell_type": "code",
   "execution_count": 47,
   "id": "4900c9f0-48fe-4163-b4ea-4c09e2c3a5b0",
   "metadata": {},
   "outputs": [
    {
     "ename": "AssertionError",
     "evalue": "b is not a str",
     "output_type": "error",
     "traceback": [
      "\u001b[0;31m---------------------------------------------------------------------------\u001b[0m",
      "\u001b[0;31mAssertionError\u001b[0m                            Traceback (most recent call last)",
      "Cell \u001b[0;32mIn[47], line 2\u001b[0m\n\u001b[1;32m      1\u001b[0m \u001b[38;5;28;01massert\u001b[39;00m \u001b[38;5;28mtype\u001b[39m(a) \u001b[38;5;241m==\u001b[39m \u001b[38;5;28mint\u001b[39m, \u001b[38;5;124m\"\u001b[39m\u001b[38;5;124ma is not an int\u001b[39m\u001b[38;5;124m\"\u001b[39m\n\u001b[0;32m----> 2\u001b[0m \u001b[38;5;28;01massert\u001b[39;00m \u001b[38;5;28mtype\u001b[39m(a) \u001b[38;5;241m==\u001b[39m \u001b[38;5;28mstr\u001b[39m, \u001b[38;5;124m\"\u001b[39m\u001b[38;5;124mb is not a str\u001b[39m\u001b[38;5;124m\"\u001b[39m\n",
      "\u001b[0;31mAssertionError\u001b[0m: b is not a str"
     ]
    }
   ],
   "source": [
    "#Assert is more of a keyword, not function\n",
    "assert type(a) == int, \"a is not an int\"\n",
    "assert type(a) == str, \"b is not a str\"\n",
    "#To read more on use of assert: https://realpython.com/python-assert-statement/"
   ]
  },
  {
   "cell_type": "markdown",
   "id": "3b39c21a-09e9-4424-9cda-840f02f5a4a5",
   "metadata": {},
   "source": [
    "### Numeric Types — int, float, complex\n",
    "There are three distinct numeric types: integers, floating point numbers, and complex numbers. \n",
    "\n",
    "In addition, Booleans are a subtype of integers. Integers have unlimited precision. \n",
    "Floating point numbers are usually implemented using double in C; information about the precision and internal representation of floating point numbers for the machine on which your program is running is available in sys.float_info. \n",
    "Complex numbers have a real and imaginary part, which are each a floating point number. "
   ]
  },
  {
   "cell_type": "markdown",
   "id": "88c0ea1e-bd1b-4054-81c9-5704a97060fc",
   "metadata": {},
   "source": [
    "### **Lists**\n",
    "List slicing:"
   ]
  },
  {
   "cell_type": "code",
   "execution_count": 4,
   "id": "44988448-5eed-4e2f-b502-31ed50d8ff3c",
   "metadata": {},
   "outputs": [
    {
     "name": "stdout",
     "output_type": "stream",
     "text": [
      "['bunch', 'of', 'words', 'which', 'also', 'allow', 'duplicates']\n",
      "['bunch', 'of', 'words']\n",
      "['which', 'also', 'allow', 'duplicates']\n",
      "['bunch', 'words', 'also', 'duplicates']\n",
      "['words', 'which', 'also']\n",
      "['words', 'which', 'also']\n"
     ]
    }
   ],
   "source": [
    "our_list = [\"bunch\", \"of\", \"words\", \"which\", \"also\", \"allow\", \"duplicates\", ]\n",
    "print(our_list[::])\n",
    "print(our_list[:3])\n",
    "print(our_list[3:])\n",
    "print(our_list[0:7:2])\n",
    "print(our_list[2:5])\n",
    "print(our_list[-5:-2])"
   ]
  },
  {
   "cell_type": "markdown",
   "id": "5e4ccffa-63c1-4cb7-b9a4-373f37d089cd",
   "metadata": {},
   "source": [
    "To add elements to a list at the end, use *append*. To add them at a particular index, use *insert*\n",
    "\n",
    "To remove elements based on index, use *pop*. To remove them based on the value, use *remove*\n",
    "\n",
    "*del* can remove certain elements or the whole list itself\n",
    "\n",
    "*clear* clears the list, as intended lol"
   ]
  },
  {
   "cell_type": "code",
   "execution_count": 7,
   "id": "18ef6522-3bdb-4358-ace3-7730dc5ea3de",
   "metadata": {},
   "outputs": [
    {
     "name": "stdout",
     "output_type": "stream",
     "text": [
      "our list is now ['now', 'this', 'looks', 'like', 'a', 'list', 'duplicates']\n",
      "our list is now ['now', 'this', 'of', 'looks', 'like', 'a', 'list', 'duplicates']\n",
      "our list is now ['now', 'this', 'looks', 'like', 'a', 'list', 'duplicates']\n",
      "our list is now ['now', 'this', 'looks', 'like', 'a', 'list']\n"
     ]
    },
    {
     "ename": "ValueError",
     "evalue": "list.remove(x): x not in list",
     "output_type": "error",
     "traceback": [
      "\u001b[0;31m---------------------------------------------------------------------------\u001b[0m",
      "\u001b[0;31mValueError\u001b[0m                                Traceback (most recent call last)",
      "Cell \u001b[0;32mIn[7], line 10\u001b[0m\n\u001b[1;32m      8\u001b[0m our_list\u001b[38;5;241m.\u001b[39mremove(\u001b[38;5;124m\"\u001b[39m\u001b[38;5;124mduplicates\u001b[39m\u001b[38;5;124m\"\u001b[39m)\n\u001b[1;32m      9\u001b[0m \u001b[38;5;28mprint\u001b[39m(\u001b[38;5;124mf\u001b[39m\u001b[38;5;124m\"\u001b[39m\u001b[38;5;124mour list is now \u001b[39m\u001b[38;5;132;01m{\u001b[39;00mour_list\u001b[38;5;132;01m}\u001b[39;00m\u001b[38;5;124m\"\u001b[39m)\n\u001b[0;32m---> 10\u001b[0m \u001b[43mour_list\u001b[49m\u001b[38;5;241;43m.\u001b[39;49m\u001b[43mremove\u001b[49m\u001b[43m(\u001b[49m\u001b[38;5;124;43m\"\u001b[39;49m\u001b[38;5;124;43msike!\u001b[39;49m\u001b[38;5;124;43m\"\u001b[39;49m\u001b[43m)\u001b[49m\n\u001b[1;32m     11\u001b[0m \u001b[38;5;28mprint\u001b[39m(\u001b[38;5;124mf\u001b[39m\u001b[38;5;124m\"\u001b[39m\u001b[38;5;124mour list is now \u001b[39m\u001b[38;5;132;01m{\u001b[39;00mour_list\u001b[38;5;132;01m}\u001b[39;00m\u001b[38;5;124m\"\u001b[39m)\n\u001b[1;32m     12\u001b[0m our_list\u001b[38;5;241m.\u001b[39mclear()\n",
      "\u001b[0;31mValueError\u001b[0m: list.remove(x): x not in list"
     ]
    }
   ],
   "source": [
    "our_list = [\"now\", \"this\", \"looks\", \"like\", \"a\", \"list\"]\n",
    "our_list.append(\"duplicates\")\n",
    "print(f\"our list is now {our_list}\")\n",
    "our_list.insert(2, \"of\")\n",
    "print(f\"our list is now {our_list}\")\n",
    "our_list.pop(2)\n",
    "print(f\"our list is now {our_list}\")\n",
    "our_list.remove(\"duplicates\")\n",
    "print(f\"our list is now {our_list}\")\n",
    "our_list.remove(\"sike!\")\n",
    "print(f\"our list is now {our_list}\")\n",
    "our_list.clear()\n",
    "print(f\"our list is now {our_list}\")\n",
    "del our_list[2]\n",
    "print(f\"our list is now {our_list}\")\n",
    "del our_list\n",
    "print(f\"our list is now {our_list}\")"
   ]
  },
  {
   "cell_type": "markdown",
   "id": "f331a206-a95a-44b8-ac80-3accd368a366",
   "metadata": {},
   "source": [
    "**List comprehensions**\n",
    "\n",
    "A way to generate new lists"
   ]
  },
  {
   "cell_type": "code",
   "execution_count": 43,
   "id": "0692fd48-a07c-4da3-aa46-b5422831df57",
   "metadata": {},
   "outputs": [
    {
     "name": "stdout",
     "output_type": "stream",
     "text": [
      "[62, 18, 98, 100]\n",
      "[62, 18, 98, 100]\n"
     ]
    }
   ],
   "source": [
    "#Let's say we have a list of numbers and from that need the list of all even ones\n",
    "original_list = [1, 43, 15, 62, 21, 18, 98, 45, 100]\n",
    "#method 1\n",
    "\n",
    "list_old_method = []\n",
    "for i in original_list:\n",
    "    if i % 2 == 0:\n",
    "        list_old_method.append(i)\n",
    "            \n",
    "print(list_old_method)\n",
    "\n",
    "#method 2\n",
    "list_new_method = [x for x in original_list if x % 2 == 0]\n",
    "print(list_new_method)"
   ]
  },
  {
   "cell_type": "markdown",
   "id": "9f236697-440c-4c5b-b9f7-b0dae1d7f4d4",
   "metadata": {},
   "source": [
    "**Sort**\n",
    "\n",
    "In python script, sort is a built-in attribute provided for the list object. The algorithm used for it is tim-sort, a hybrid of merge sort and insertion sort. \n",
    "Syntax:\n",
    "\n",
    "    sort(*, key=None, reverse=False)\n",
    "key is a function that takes one parameter and the sort method applies that to each element of the list before sorting it. \n",
    "If the reverse is set as true, it sorts the elements in descending order (after taking the key into consideration)\n",
    "\n",
    "Keep in mind that sort has return type None. It sorts the list in place"
   ]
  },
  {
   "cell_type": "code",
   "execution_count": 59,
   "id": "4673d2f0-805b-4222-be34-eecbca3809fd",
   "metadata": {},
   "outputs": [
    {
     "name": "stdout",
     "output_type": "stream",
     "text": [
      "old id is 4420510336\n",
      "[-10, 12, 45, -56, 67, 100, -103]\n",
      "new id is 4420510336\n",
      "[-103, 100, 67, -56, 45, 12, -10]\n"
     ]
    }
   ],
   "source": [
    "def sort_fun(a):\n",
    "    return abs(a)\n",
    "list_sort = [-10, 67, -103, 12, -56, 45, 100]\n",
    "print(f\"old id is {id(list_sort)}\")\n",
    "\n",
    "list_sort.sort(key = sort_fun)\n",
    "print(list_sort)\n",
    "print(f\"new id is {id(list_sort)}\")\n",
    "\n",
    "list_sort.sort(key=sort_fun, reverse=True)\n",
    "print(list_sort)"
   ]
  },
  {
   "cell_type": "markdown",
   "id": "ab075e13-9a56-47ca-ac4d-d3433029fe32",
   "metadata": {},
   "source": [
    "### **Tuples**\n",
    "Tuples are immutable sequences, typically used to store collections of heterogeneous data (such as the 2-tuples produced by the enumerate() built-in). Tuples are also used for cases where an immutable sequence of homogeneous data is needed (such as allowing storage in a set or dict instance).\n",
    "They are indexed and unordered.\n",
    "\n",
    "Tuples may be constructed in a number of ways:\n",
    "\n",
    "1. Using a pair of parentheses to denote the empty tuple: ()\n",
    "2. Using a trailing comma for a singleton tuple: a, or (a,)\n",
    "3. Separating items with commas: a, b, c or (a, b, c)\n",
    "4. Using the tuple() built-in: tuple() or tuple(iterable)"
   ]
  },
  {
   "cell_type": "code",
   "execution_count": 108,
   "id": "a28e1fa2-8e3d-461e-9666-087135856d2a",
   "metadata": {},
   "outputs": [
    {
     "name": "stdout",
     "output_type": "stream",
     "text": [
      "(1, 2, 4, 4, 5, 6)\n",
      "(1, 2, 3, 4, 5, 5)\n"
     ]
    }
   ],
   "source": [
    "print(tuple((1, 2,4) + (4, 5, 6)))\n",
    "mylist = [1, 2, 3, 4, 5,5]\n",
    "print(tuple(mylist))"
   ]
  },
  {
   "cell_type": "markdown",
   "id": "709f5a61-2dcb-400e-a319-454dfe2fadba",
   "metadata": {},
   "source": [
    "### **Sets**\n",
    "A set is a collection which is unordered, and unindexed. You cannot change an exisiting element inside a set, but you can add/remove. Sets do not allow duplicates.\n",
    "\n",
    "To add elements to a set, you can use *add* or *update*\n",
    "\n",
    "To remove, you use *remove* or *discard*, for a particular element, or *pop* for a random element"
   ]
  },
  {
   "cell_type": "code",
   "execution_count": 68,
   "id": "b5730836-e2e3-4ca3-87da-4db02e2ead0d",
   "metadata": {},
   "outputs": [
    {
     "name": "stdout",
     "output_type": "stream",
     "text": [
      "sample_set after add operation is {'bakri', 'bail', 'bhains', 'gai'}\n",
      "sample_set after update operation is {'cheetah', 'gai', 'sher', 'bail', 'bakri', 'bhains'}\n",
      "sample_set after remove operation is {'cheetah', 'gai', 'sher', 'bakri', 'bhains'}\n"
     ]
    }
   ],
   "source": [
    "sample_set = {\"bakri\", \"bhains\", \"gai\"}\n",
    "\n",
    "sample_set.add(\"bail\")\n",
    "print(f\"sample_set after add operation is {sample_set}\")\n",
    "sample_set.update([\"sher\", \"cheetah\"])\n",
    "print(f\"sample_set after update operation is {sample_set}\")\n",
    "sample_set.remove(\"bail\")\n",
    "print(f\"sample_set after remove operation is {sample_set}\")"
   ]
  },
  {
   "cell_type": "markdown",
   "id": "3113142d-2672-48a8-8a08-cf96d7fd9021",
   "metadata": {},
   "source": [
    "The elements in the sets are hashable(id remains unchanged during lifetime)"
   ]
  },
  {
   "cell_type": "code",
   "execution_count": 80,
   "id": "c13e6770-7055-4403-a7fc-51cdb9f72cab",
   "metadata": {},
   "outputs": [
    {
     "name": "stdout",
     "output_type": "stream",
     "text": [
      "List of ids are [4419615600, 4419616048, 4419826992] and [4419615600, 4419616048]\n"
     ]
    }
   ],
   "source": [
    "sample_set = {\"country\", \"city\", \"village\"}\n",
    "prev_ids = [id(x) for x in sample_set]\n",
    "prev_ids.sort()\n",
    "sample_set.discard(\"city\")\n",
    "new_ids = [id(x) for x in sample_set]\n",
    "new_ids.sort()\n",
    "\n",
    "print(f\"List of ids are {prev_ids} and {new_ids}\")\n"
   ]
  },
  {
   "cell_type": "code",
   "execution_count": 81,
   "id": "f1df431c-3845-4e3b-b703-885772b74bf4",
   "metadata": {},
   "outputs": [
    {
     "ename": "AttributeError",
     "evalue": "'frozenset' object has no attribute 'add'",
     "output_type": "error",
     "traceback": [
      "\u001b[0;31m---------------------------------------------------------------------------\u001b[0m",
      "\u001b[0;31mAttributeError\u001b[0m                            Traceback (most recent call last)",
      "Cell \u001b[0;32mIn[81], line 2\u001b[0m\n\u001b[1;32m      1\u001b[0m frozen_set \u001b[38;5;241m=\u001b[39m \u001b[38;5;28mfrozenset\u001b[39m(sample_set)\n\u001b[0;32m----> 2\u001b[0m \u001b[43mfrozen_set\u001b[49m\u001b[38;5;241;43m.\u001b[39;49m\u001b[43madd\u001b[49m(\u001b[38;5;124m\"\u001b[39m\u001b[38;5;124mcountry\u001b[39m\u001b[38;5;124m\"\u001b[39m)\n\u001b[1;32m      3\u001b[0m frozen_set\n",
      "\u001b[0;31mAttributeError\u001b[0m: 'frozenset' object has no attribute 'add'"
     ]
    }
   ],
   "source": [
    "frozen_set = frozenset(sample_set)\n",
    "frozen_set.add(\"country\")\n",
    "frozen_set"
   ]
  },
  {
   "cell_type": "markdown",
   "id": "0fa9af31-8ce4-4d42-97a6-c2acbaaabe03",
   "metadata": {},
   "source": [
    "### **Dict**\n",
    "Dict is the collection used in python for mapping purposes. It stores data in key-value pairs. They keys are hashable, but the values are not.\n",
    "Since python3.6, dictionaries are ordered based on the order of the keys input"
   ]
  },
  {
   "cell_type": "code",
   "execution_count": 90,
   "id": "8b6d514f-1ad8-41cf-9096-8237f4be82d0",
   "metadata": {},
   "outputs": [
    {
     "name": "stdout",
     "output_type": "stream",
     "text": [
      "old id : 4437648384 and idlist: [4374716664, 4374716696]\n",
      "new id : 4437648384 and idlist: [4374716664, 4374716696]\n"
     ]
    }
   ],
   "source": [
    "mydict = {1 : \"tanmay\", 2 : \"tan_may\"}\n",
    "oldlist = [id(x) for x in mydict.keys()]\n",
    "mydict[2] = \"tan-may\"\n",
    "newlist = [id(x) for x in mydict.keys()]\n",
    "\n",
    "print(f\"old id : {id(mydict)} and idlist: {oldlist}\")\n",
    "print(f\"new id : {id(mydict)} and idlist: {newlist}\")"
   ]
  },
  {
   "cell_type": "markdown",
   "id": "35aa60f4-fc86-42fb-9ddc-0eec3aeb0e2c",
   "metadata": {},
   "source": [
    "Since lists, tuples, sets are dictionaries are all collections, comprehension works on all of them\n",
    "You can also use the *del* keyword on them."
   ]
  },
  {
   "cell_type": "markdown",
   "id": "93a353db-a2c6-40de-9876-df56c0dd648a",
   "metadata": {},
   "source": [
    "Instead of accessing a dictionary value using dict[key] one could use dict.get(key) which returns None instead of returning an error.\n",
    "Dictionary view objects\n",
    "The objects returned by dict.keys(), dict.values() and dict.items() are view objects. They provide a dynamic view on the dictionary’s entries, which means that when the dictionary changes, the view reflects these changes."
   ]
  },
  {
   "cell_type": "markdown",
   "id": "bcd31ca0-d054-4a16-bd24-1b01fe9a9bcc",
   "metadata": {},
   "source": [
    "### **String**\n",
    "Textual data in Python is handled with str objects, or strings. Strings are immutable sequences of Unicode code points. String literals are written in a variety of ways. Both double and single quotes are used to denote single line strings\n",
    "\n",
    "Multiline strings are denoted with triple quotes"
   ]
  },
  {
   "cell_type": "code",
   "execution_count": 115,
   "id": "19ecc983-1cab-4cda-acb5-1048419cf3c4",
   "metadata": {},
   "outputs": [
    {
     "ename": "SyntaxError",
     "evalue": "EOL while scanning string literal (1592191095.py, line 1)",
     "output_type": "error",
     "traceback": [
      "\u001b[0;36m  Cell \u001b[0;32mIn[115], line 1\u001b[0;36m\u001b[0m\n\u001b[0;31m    mystr = \"tanmay\u001b[0m\n\u001b[0m                   ^\u001b[0m\n\u001b[0;31mSyntaxError\u001b[0m\u001b[0;31m:\u001b[0m EOL while scanning string literal\n"
     ]
    }
   ],
   "source": [
    "mystr = \"Sifive\n",
    "The \n",
    "Future of\n",
    "Risc V\""
   ]
  },
  {
   "cell_type": "markdown",
   "id": "a8bb6602-bb4b-4b25-9ed6-102ec0056bf7",
   "metadata": {},
   "source": [
    "Some usefule string methods:\n",
    "    \n",
    "    replace: \"sifive\".replace(\"s\", \"sc\") = \"scifive\"\n",
    "    strip: \"sifive\".strip(\"si\") = \"five\" \n",
    "    split:  \"sifive.split(\"i\") = [\"s\", \"f\", \"ve\"]\n",
    "    lower: \"SIFIVE.lower()\" = \"sifive\"           #similarly upper also\n",
    "**format**:"
   ]
  },
  {
   "cell_type": "code",
   "execution_count": 124,
   "id": "b4651d31-b270-4088-b931-d3a320b5dcdc",
   "metadata": {},
   "outputs": [
    {
     "name": "stdout",
     "output_type": "stream",
     "text": [
      "My name is John, I'm 36\n",
      "My name is 36, I'm John\n",
      "My name is John, I'm 36\n"
     ]
    }
   ],
   "source": [
    "txt1 = \"My name is {fname}, I'm {age}\".format(fname = \"John\", age = 36)\n",
    "print(txt1)\n",
    "txt2 = \"My name is {1}, I'm {0}\".format(\"John\",36)\n",
    "print(txt2)\n",
    "txt3 = \"My name is {}, I'm {}\".format(\"John\",36)\n",
    "print(txt3)"
   ]
  },
  {
   "cell_type": "markdown",
   "id": "3b6b51c1-9dce-4742-90e7-ba15848c2c78",
   "metadata": {},
   "source": [
    "## **Functional impact: Lambda, map, reduce and filter**\n",
    "\n",
    "Some popular functional programming features were added to Python in 1993. Some of them are the 4 mentioned above\n",
    "\n",
    "**lambda(Anonymous function)**\n",
    "\n",
    "Often times we need a simple function for a particular application. Using lambda function, we need not define them"
   ]
  },
  {
   "cell_type": "code",
   "execution_count": 131,
   "id": "ec7b2ef8-c277-4a2a-996d-222887e1e50f",
   "metadata": {},
   "outputs": [
    {
     "name": "stdout",
     "output_type": "stream",
     "text": [
      "[-5, -68, 67, 75, -105, 100]\n",
      "[-5, -68, 67, 75, -105, 100]\n"
     ]
    }
   ],
   "source": [
    "def add5abs(num):\n",
    "    return abs(num + 5)\n",
    "\n",
    "listforold = [-105, 67, -68, 75, 100, -5]\n",
    "listfornew = listforold\n",
    "\n",
    "listforold.sort(key = add5abs)\n",
    "listfornew.sort(key = lambda x: abs(x + 5))\n",
    "\n",
    "print(listforold)\n",
    "print(listfornew)"
   ]
  },
  {
   "cell_type": "markdown",
   "id": "e72ed616-d34a-4857-b7ea-9f8a05d18ac1",
   "metadata": {},
   "source": [
    "You can also assign a variable to a function generated by lambda"
   ]
  },
  {
   "cell_type": "code",
   "execution_count": 136,
   "id": "51fa1384-3ef1-4322-bcde-2286a57d98e4",
   "metadata": {},
   "outputs": [
    {
     "data": {
      "text/plain": [
       "8"
      ]
     },
     "execution_count": 136,
     "metadata": {},
     "output_type": "execute_result"
    }
   ],
   "source": [
    "mynewfunction = lambda x, y, z: z if x > y else 0\n",
    "mynewfunction(40, 5, 8)"
   ]
  },
  {
   "cell_type": "markdown",
   "id": "ad9fab00-904c-4948-8d85-a345c15ab0fe",
   "metadata": {},
   "source": [
    "Lambda flows really well with the rest 3 functions\n",
    "\n",
    "**map**\n",
    "\n",
    "map function is used to generate a new list after applying some function to one or more old lists"
   ]
  },
  {
   "cell_type": "code",
   "execution_count": 138,
   "id": "99a2c231-852c-4776-9cd1-d45d924f9727",
   "metadata": {},
   "outputs": [
    {
     "name": "stdout",
     "output_type": "stream",
     "text": [
      "[5, 10, 15]\n"
     ]
    }
   ],
   "source": [
    "#Taking one list\n",
    "newlist = list(map(lambda x : x + 5, [0, 5, 10]))\n",
    "print(newlist)"
   ]
  },
  {
   "cell_type": "code",
   "execution_count": 142,
   "id": "84d65d7a-c238-4022-b626-f86a9a56ea90",
   "metadata": {},
   "outputs": [
    {
     "name": "stdout",
     "output_type": "stream",
     "text": [
      "[False, False, False, True, True]\n"
     ]
    }
   ],
   "source": [
    "#Taking multiple lists\n",
    "list1 = [0, 1, 1, 2, 3, 8]\n",
    "list2 = [4, 3, 2, 1, 0]\n",
    "newmapobject = map(lambda x, y: x > y, list1, list2)\n",
    "print(list(newmapobject))"
   ]
  },
  {
   "cell_type": "code",
   "execution_count": 147,
   "id": "dddc6f58-6390-4c70-bda9-902f2ac2acb7",
   "metadata": {},
   "outputs": [
    {
     "name": "stdout",
     "output_type": "stream",
     "text": [
      "['DELHI', 'BHUBANESWAR', 'BANGALORE', 'BHOPAL']\n"
     ]
    }
   ],
   "source": [
    "#map also works on object methods\n",
    "capital_list = [\"delhi\", \"bhubaneswar\", \"bangalore\", \"bhopal\"]\n",
    "capital_capital = map(str.upper, capital_list)\n",
    "print(list(capital_capital))"
   ]
  },
  {
   "cell_type": "markdown",
   "id": "68d40b7b-28d0-4fbb-9b54-5e6afe1bb0ee",
   "metadata": {},
   "source": [
    "**filter**\n",
    "\n",
    "filter, does filtering on a list, not so surprisingly"
   ]
  },
  {
   "cell_type": "code",
   "execution_count": 144,
   "id": "4dfc5057-a368-4608-900a-a6a58a298137",
   "metadata": {},
   "outputs": [
    {
     "name": "stdout",
     "output_type": "stream",
     "text": [
      "[1, 1, 3]\n"
     ]
    }
   ],
   "source": [
    "filteredlist = filter(lambda x: x % 2 == 1, list1)\n",
    "print(list(filteredlist))"
   ]
  },
  {
   "cell_type": "markdown",
   "id": "6d437dff-a9ef-4129-85b0-b8757119b2e5",
   "metadata": {},
   "source": [
    "**reduce**\n",
    "\n",
    "This function is not present in the standard library and has to be loaded from functools package\n",
    "\n",
    "Unlike map, which applies a function to all elements of a list and generates a new list, reduce reduces the list to a single element after applying a function to all the elements present.\n",
    "\n",
    "e.g. Consider that we have to find if all the values in a boolean list are true or not"
   ]
  },
  {
   "cell_type": "code",
   "execution_count": 150,
   "id": "c4378afb-5da3-4681-9d15-7a8bee8183f4",
   "metadata": {},
   "outputs": [
    {
     "name": "stdout",
     "output_type": "stream",
     "text": [
      "False\n",
      "False\n"
     ]
    }
   ],
   "source": [
    "bool_list = [True, False, True, True, True]\n",
    "#Iterative approach\n",
    "def func_old(_list):\n",
    "    for i in _list:\n",
    "        if i == True:\n",
    "            continue\n",
    "        else:\n",
    "            return False\n",
    "    return True\n",
    "\n",
    "#New, shiny functional approach\n",
    "from functools import reduce\n",
    "bool_new = reduce(lambda x, y: x and y, bool_list)\n",
    "\n",
    "bool_old = func_old(bool_list)\n",
    "print(bool_old)\n",
    "print(bool_new)"
   ]
  },
  {
   "cell_type": "markdown",
   "id": "a6abf44f-be33-4ee7-a1b0-b942d441f707",
   "metadata": {},
   "source": [
    "By default, reduce takes a function to be applied and the list. The function takes 2 arguments. reduce() starts with the first 2 elements and with the result as the first argument for next iteration, keeps applying the function to the next elements.\n",
    "You can also add a third parameter to reduce, an initializer. The function would apply itself on the initializer and the first element as a starting point."
   ]
  },
  {
   "cell_type": "code",
   "execution_count": 151,
   "id": "ef7e7318-bed7-4a6c-9a50-ef1390c6f272",
   "metadata": {},
   "outputs": [
    {
     "name": "stdout",
     "output_type": "stream",
     "text": [
      "False\n"
     ]
    }
   ],
   "source": [
    "#Sure to return false\n",
    "bool_list = [True, True, True]\n",
    "bool_new = reduce(lambda x, y: x and y, bool_list, False)\n",
    "\n",
    "print(bool_new)\n"
   ]
  },
  {
   "cell_type": "code",
   "execution_count": 125,
   "id": "22fafc73-cb47-424b-9497-de9714b447ac",
   "metadata": {},
   "outputs": [
    {
     "ename": "NameError",
     "evalue": "name 'reduce' is not defined",
     "output_type": "error",
     "traceback": [
      "\u001b[0;31m---------------------------------------------------------------------------\u001b[0m",
      "\u001b[0;31mNameError\u001b[0m                                 Traceback (most recent call last)",
      "Cell \u001b[0;32mIn[125], line 1\u001b[0m\n\u001b[0;32m----> 1\u001b[0m help(\u001b[43mreduce\u001b[49m)\n",
      "\u001b[0;31mNameError\u001b[0m: name 'reduce' is not defined"
     ]
    }
   ],
   "source": [
    "help(reduce)"
   ]
  },
  {
   "cell_type": "code",
   "execution_count": 128,
   "id": "7d492353-2054-46c7-af6e-0fa21b7575ee",
   "metadata": {},
   "outputs": [
    {
     "data": {
      "text/plain": [
       "[2]"
      ]
     },
     "execution_count": 128,
     "metadata": {},
     "output_type": "execute_result"
    }
   ],
   "source": [
    "list(filter(lambda x: x == 2, [1, 2, 3, 3]))"
   ]
  },
  {
   "cell_type": "code",
   "execution_count": 152,
   "id": "9c7c3c58-e138-4336-9e49-ede9290eabe3",
   "metadata": {},
   "outputs": [
    {
     "name": "stdout",
     "output_type": "stream",
     "text": [
      "Python 3.8.9 (default, Apr 13 2022, 08:48:06) \n",
      "[Clang 13.1.6 (clang-1316.0.21.2.5)] on darwin\n",
      "Type \"help\", \"copyright\", \"credits\" or \"license\" for more information.\n",
      ">>> \n",
      "KeyboardInterrupt\n",
      ">>> \n",
      ">>> "
     ]
    }
   ],
   "source": [
    "!python"
   ]
  },
  {
   "cell_type": "code",
   "execution_count": 154,
   "id": "a459b3db-7cf3-47b3-851a-6093b78ecb2e",
   "metadata": {},
   "outputs": [
    {
     "ename": "TypeError",
     "evalue": "myFun() got an unexpected keyword argument 'arg12'",
     "output_type": "error",
     "traceback": [
      "\u001b[0;31m---------------------------------------------------------------------------\u001b[0m",
      "\u001b[0;31mTypeError\u001b[0m                                 Traceback (most recent call last)",
      "Cell \u001b[0;32mIn[154], line 9\u001b[0m\n\u001b[1;32m      4\u001b[0m     \u001b[38;5;28mprint\u001b[39m(\u001b[38;5;124m\"\u001b[39m\u001b[38;5;124marg3:\u001b[39m\u001b[38;5;124m\"\u001b[39m, arg3)\n\u001b[1;32m      8\u001b[0m kwargs \u001b[38;5;241m=\u001b[39m {\u001b[38;5;124m\"\u001b[39m\u001b[38;5;124marg12\u001b[39m\u001b[38;5;124m\"\u001b[39m: \u001b[38;5;124m\"\u001b[39m\u001b[38;5;124mGeeks\u001b[39m\u001b[38;5;124m\"\u001b[39m, \u001b[38;5;124m\"\u001b[39m\u001b[38;5;124marg21\u001b[39m\u001b[38;5;124m\"\u001b[39m: \u001b[38;5;124m\"\u001b[39m\u001b[38;5;124mfor\u001b[39m\u001b[38;5;124m\"\u001b[39m, \u001b[38;5;124m\"\u001b[39m\u001b[38;5;124marg3\u001b[39m\u001b[38;5;124m\"\u001b[39m: \u001b[38;5;124m\"\u001b[39m\u001b[38;5;124mGeeks\u001b[39m\u001b[38;5;124m\"\u001b[39m}\n\u001b[0;32m----> 9\u001b[0m \u001b[43mmyFun\u001b[49m\u001b[43m(\u001b[49m\u001b[38;5;241;43m*\u001b[39;49m\u001b[38;5;241;43m*\u001b[39;49m\u001b[43mkwargs\u001b[49m\u001b[43m)\u001b[49m\n",
      "\u001b[0;31mTypeError\u001b[0m: myFun() got an unexpected keyword argument 'arg12'"
     ]
    }
   ],
   "source": [
    "def myFun(arg1, arg2, arg3):\n",
    "    print(\"arg1:\", arg1)\n",
    "    print(\"arg2:\", arg2)\n",
    "    print(\"arg3:\", arg3)\n",
    " \n",
    "\n",
    " \n",
    "kwargs = {\"arg12\": \"Geeks\", \"arg21\": \"for\", \"arg3\": \"Geeks\"}\n",
    "myFun(**kwargs)"
   ]
  },
  {
   "cell_type": "code",
   "execution_count": 160,
   "id": "329567df-c10e-4a46-9b35-29bbb2ed3f73",
   "metadata": {},
   "outputs": [
    {
     "name": "stdout",
     "output_type": "stream",
     "text": [
      "['R', 'e', 'a', 'l', 'P', 'y', 't', 'h', 'o', 'n']\n",
      "<class 'list'>\n",
      "['R', 'e', 'a', 'l', 'P', 'y', 't', 'h', 'o', 'n']\n",
      "<class 'list'>\n"
     ]
    }
   ],
   "source": [
    "[*af] = \"RealPython\"\n",
    "print(af)\n",
    "print(type(af))\n",
    "*a, = \"RealPython\"\n",
    "print(a)\n",
    "print(type(a))"
   ]
  },
  {
   "cell_type": "code",
   "execution_count": 158,
   "id": "1cb61ce7-2683-42cd-aed5-d381d435359d",
   "metadata": {},
   "outputs": [
    {
     "name": "stdout",
     "output_type": "stream",
     "text": [
      "['R', 'e', 'a', 'l', 'P', 'y', 't', 'h', 'o', 'n']\n"
     ]
    }
   ],
   "source": []
  },
  {
   "cell_type": "code",
   "execution_count": null,
   "id": "2eb97578-ab9f-4735-ae13-ccb396498fd0",
   "metadata": {},
   "outputs": [],
   "source": []
  }
 ],
 "metadata": {
  "kernelspec": {
   "display_name": "Python 3 (ipykernel)",
   "language": "python",
   "name": "python3"
  },
  "language_info": {
   "codemirror_mode": {
    "name": "ipython",
    "version": 3
   },
   "file_extension": ".py",
   "mimetype": "text/x-python",
   "name": "python",
   "nbconvert_exporter": "python",
   "pygments_lexer": "ipython3",
   "version": "3.8.9"
  }
 },
 "nbformat": 4,
 "nbformat_minor": 5
}
