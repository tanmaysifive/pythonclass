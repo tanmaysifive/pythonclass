{
 "cells": [
  {
   "cell_type": "markdown",
   "id": "6138b6e6-186b-40c5-8fa3-6c22c2af2aa8",
   "metadata": {},
   "source": [
    "# args kwargs and file handling"
   ]
  },
  {
   "cell_type": "markdown",
   "id": "c5c1e18a-ffc0-4b1b-9b3d-09e5a184686a",
   "metadata": {},
   "source": [
    "args and kwargs(keyword arguments) are python's way of having variable number of parameters.\n",
    "\n",
    "args takes positional parameters and kwargs takes key word ones. args should always come before kwargs in the function defintion"
   ]
  },
  {
   "cell_type": "code",
   "execution_count": 4,
   "id": "efd08dff-6622-432c-97c4-fdb33843ad40",
   "metadata": {},
   "outputs": [
    {
     "name": "stdout",
     "output_type": "stream",
     "text": [
      "sum is 15\n",
      "kwargs is {'x': 'sifive'}\n",
      "type of arguments are <class 'tuple'> and <class 'dict'>\n"
     ]
    }
   ],
   "source": [
    "def varfun(*args, **kwargs):\n",
    "    mysum = 0\n",
    "    for x in args:\n",
    "        mysum += x\n",
    "    print(f\"sum is {mysum}\")\n",
    "    print(f\"kwargs is {kwargs}\")\n",
    "    print(f'type of arguments are {type(args)} and {type(kwargs)}')\n",
    "    return\n",
    "\n",
    "varfun(4, 5, 6, x = 'sifive')"
   ]
  },
  {
   "cell_type": "markdown",
   "id": "5d454730-216f-46f8-b65f-57b0c0e18965",
   "metadata": {},
   "source": [
    "## file handling\n",
    "Modes available:\n",
    "\n",
    "    ========= ===============================================================\n",
    "    Character Meaning\n",
    "    --------- ---------------------------------------------------------------\n",
    "    'r'       open for reading (default)\n",
    "    'w'       open for writing, truncating the file first\n",
    "    'x'       create a new file and open it for writing\n",
    "    'a'       open for writing, appending to the end of the file if it exists\n",
    "    'b'       binary mode\n",
    "    't'       text mode (default)\n",
    "    '+'       open a disk file for updating (reading and writing)\n",
    "    ========= ===============================================================\n",
    "\n",
    "\n",
    "Python distinguishes between files opened in binary and text modes,even when the underlying operating system doesn't. Files opened in binary mode (appending 'b' to the mode argument) return contents as bytes objects without any decoding. In text mode (the default, or when 't' is appended to the mode argument), the contents of the file are returned as strings, the bytes having been first decoded using a platform-dependent encoding or using the specified encoding if given."
   ]
  },
  {
   "cell_type": "code",
   "execution_count": 4,
   "id": "94df9182-b8b4-4604-ad10-4f55ca81b4b1",
   "metadata": {},
   "outputs": [
    {
     "name": "stdout",
     "output_type": "stream",
     "text": [
      "+-------------------------------+-----+------+-----+------+-----+------+-----+------+\n",
      "| _                             | r   | r+   | x   | x+   | w   | w+   | a   | a+   |\n",
      "+===============================+=====+======+=====+======+=====+======+=====+======+\n",
      "| readable                      | x   | x    | _   | x    | _   | x    | _   | x    |\n",
      "+-------------------------------+-----+------+-----+------+-----+------+-----+------+\n",
      "| writeable                     | _   | x    | x   | x    | x   | x    | x   | x    |\n",
      "+-------------------------------+-----+------+-----+------+-----+------+-----+------+\n",
      "| default position: start       | x   | x    | x   | x    | x   | x    | _   | _    |\n",
      "+-------------------------------+-----+------+-----+------+-----+------+-----+------+\n",
      "| default position: end         | _   | _    | _   | _    | _   | _    | x   | x    |\n",
      "+-------------------------------+-----+------+-----+------+-----+------+-----+------+\n",
      "| must exist                    | x   | x    | _   | _    | _   | _    | _   | _    |\n",
      "+-------------------------------+-----+------+-----+------+-----+------+-----+------+\n",
      "| mustn't exist                 | _   | _    | x   | x    | _   | _    | _   | _    |\n",
      "+-------------------------------+-----+------+-----+------+-----+------+-----+------+\n",
      "| truncate (clear file) on load | _   | _    | _   | _    | x   | x    | _   | _    |\n",
      "+-------------------------------+-----+------+-----+------+-----+------+-----+------+\n",
      "| always write to EOF           | _   | _    | _   | _    | _   | _    | x   | x    |\n",
      "+-------------------------------+-----+------+-----+------+-----+------+-----+------+\n"
     ]
    }
   ],
   "source": [
    "from tabulate import tabulate\n",
    "mydata = [[\"readable\", 'x', 'x', '_', 'x', '_', 'x', '_', 'x'],\n",
    "          [\"writeable\", '_', 'x', 'x', 'x', 'x', 'x', 'x', 'x'],\n",
    "          [\"default position: start\", 'x', 'x', 'x', 'x', 'x', 'x', '_', '_'], \n",
    "          [\"default position: end\", '_', '_', '_', '_', '_', '_', 'x', 'x'],\n",
    "          [\"must exist\", 'x', 'x', '_', '_', '_', '_', '_', '_'],\n",
    "          [\"mustn't exist\", '_', '_', 'x', 'x', '_', '_', '_', '_'],\n",
    "          [\"truncate (clear file) on load\", '_', '_', '_', '_', 'x', 'x', '_', '_'], \n",
    "          [\"always write to EOF\", '_', '_', '_', '_', '_', '_', 'x', 'x']]\n",
    "\n",
    "head = [\"_\", \"r\", \"r+\", \"x\", \"x+\", \"w\", \"w+\", \"a\", \"a+\"]\n",
    "print(tabulate(mydata, headers=head, tablefmt=\"grid\"))"
   ]
  },
  {
   "cell_type": "code",
   "execution_count": 12,
   "id": "2b34fe52-97b0-4bbe-935b-1bc57958ec9e",
   "metadata": {},
   "outputs": [
    {
     "name": "stdout",
     "output_type": "stream",
     "text": [
      "16\n"
     ]
    }
   ],
   "source": [
    "fd = open('text.txt', 'a+')\n",
    "write = fd.write(\"now this is cool\")\n",
    "print(write)"
   ]
  },
  {
   "cell_type": "code",
   "execution_count": 13,
   "id": "1ac75459-f316-4d16-a6a9-c48e81cf5a67",
   "metadata": {},
   "outputs": [],
   "source": [
    "fd.close()"
   ]
  },
  {
   "cell_type": "code",
   "execution_count": 18,
   "id": "2cecb92f-4d34-4ab7-a3d5-53f8bde1495d",
   "metadata": {},
   "outputs": [
    {
     "ename": "FileNotFoundError",
     "evalue": "[Errno 2] No such file or directory: 'text.txt'",
     "output_type": "error",
     "traceback": [
      "\u001b[0;31m---------------------------------------------------------------------------\u001b[0m",
      "\u001b[0;31mFileNotFoundError\u001b[0m                         Traceback (most recent call last)",
      "Cell \u001b[0;32mIn[18], line 1\u001b[0m\n\u001b[0;32m----> 1\u001b[0m fd \u001b[38;5;241m=\u001b[39m \u001b[38;5;28;43mopen\u001b[39;49m\u001b[43m(\u001b[49m\u001b[38;5;124;43m\"\u001b[39;49m\u001b[38;5;124;43mtext.txt\u001b[39;49m\u001b[38;5;124;43m\"\u001b[39;49m\u001b[43m,\u001b[49m\u001b[43m \u001b[49m\u001b[38;5;124;43m'\u001b[39;49m\u001b[38;5;124;43mr+\u001b[39;49m\u001b[38;5;124;43m'\u001b[39;49m\u001b[43m)\u001b[49m\n\u001b[1;32m      2\u001b[0m read \u001b[38;5;241m=\u001b[39m fd\u001b[38;5;241m.\u001b[39mread()\n\u001b[1;32m      3\u001b[0m \u001b[38;5;28mprint\u001b[39m(read)\n",
      "File \u001b[0;32m~/sifive/python/lib/python3.8/site-packages/IPython/core/interactiveshell.py:282\u001b[0m, in \u001b[0;36m_modified_open\u001b[0;34m(file, *args, **kwargs)\u001b[0m\n\u001b[1;32m    275\u001b[0m \u001b[38;5;28;01mif\u001b[39;00m file \u001b[38;5;129;01min\u001b[39;00m {\u001b[38;5;241m0\u001b[39m, \u001b[38;5;241m1\u001b[39m, \u001b[38;5;241m2\u001b[39m}:\n\u001b[1;32m    276\u001b[0m     \u001b[38;5;28;01mraise\u001b[39;00m \u001b[38;5;167;01mValueError\u001b[39;00m(\n\u001b[1;32m    277\u001b[0m         \u001b[38;5;124mf\u001b[39m\u001b[38;5;124m\"\u001b[39m\u001b[38;5;124mIPython won\u001b[39m\u001b[38;5;124m'\u001b[39m\u001b[38;5;124mt let you open fd=\u001b[39m\u001b[38;5;132;01m{\u001b[39;00mfile\u001b[38;5;132;01m}\u001b[39;00m\u001b[38;5;124m by default \u001b[39m\u001b[38;5;124m\"\u001b[39m\n\u001b[1;32m    278\u001b[0m         \u001b[38;5;124m\"\u001b[39m\u001b[38;5;124mas it is likely to crash IPython. If you know what you are doing, \u001b[39m\u001b[38;5;124m\"\u001b[39m\n\u001b[1;32m    279\u001b[0m         \u001b[38;5;124m\"\u001b[39m\u001b[38;5;124myou can use builtins\u001b[39m\u001b[38;5;124m'\u001b[39m\u001b[38;5;124m open.\u001b[39m\u001b[38;5;124m\"\u001b[39m\n\u001b[1;32m    280\u001b[0m     )\n\u001b[0;32m--> 282\u001b[0m \u001b[38;5;28;01mreturn\u001b[39;00m \u001b[43mio_open\u001b[49m\u001b[43m(\u001b[49m\u001b[43mfile\u001b[49m\u001b[43m,\u001b[49m\u001b[43m \u001b[49m\u001b[38;5;241;43m*\u001b[39;49m\u001b[43margs\u001b[49m\u001b[43m,\u001b[49m\u001b[43m \u001b[49m\u001b[38;5;241;43m*\u001b[39;49m\u001b[38;5;241;43m*\u001b[39;49m\u001b[43mkwargs\u001b[49m\u001b[43m)\u001b[49m\n",
      "\u001b[0;31mFileNotFoundError\u001b[0m: [Errno 2] No such file or directory: 'text.txt'"
     ]
    }
   ],
   "source": [
    "fd = open(\"text.txt\", 'r+')\n",
    "read = fd.read()\n",
    "print(read)\n",
    "fd.close()"
   ]
  },
  {
   "cell_type": "markdown",
   "id": "41b39901-dd8d-48ee-b010-e1aac7cbbacf",
   "metadata": {},
   "source": [
    "## Providing data from command line"
   ]
  },
  {
   "cell_type": "code",
   "execution_count": 21,
   "id": "4af3ba68-41a0-4d35-a13f-d2daff95d55a",
   "metadata": {},
   "outputs": [],
   "source": [
    "data = \"\"\"\n",
    "import sys\n",
    "print(type(sys.argv))\n",
    "for x in sys.argv:\n",
    "    print(x)\n",
    "\"\"\"\n",
    "\n",
    "fd = open(\"command.py\", \"w\")\n",
    "fd.write(data)\n",
    "fd.close()"
   ]
  },
  {
   "cell_type": "code",
   "execution_count": 22,
   "id": "24118f22-5e00-44c7-880e-adadb39caddd",
   "metadata": {},
   "outputs": [
    {
     "name": "stdout",
     "output_type": "stream",
     "text": [
      "<class 'list'>\n",
      "command.py\n",
      "passing\n",
      "args\n",
      "from\n",
      "command\n",
      "line\n"
     ]
    }
   ],
   "source": [
    "!python command.py passing args from command line"
   ]
  },
  {
   "cell_type": "markdown",
   "id": "56e3b510-0381-4288-bc3d-94761727144c",
   "metadata": {},
   "source": [
    "### Raising exceptions in code\n",
    "\n",
    "[Full resource](https://docs.python.org/3/library/exceptions.html)"
   ]
  },
  {
   "cell_type": "code",
   "execution_count": 27,
   "id": "a1dbffc8-8276-4b4e-bcf5-e630a9d3e3bd",
   "metadata": {},
   "outputs": [
    {
     "name": "stdout",
     "output_type": "stream",
     "text": [
      "before exception raise\n"
     ]
    },
    {
     "ename": "AssertionError",
     "evalue": "",
     "output_type": "error",
     "traceback": [
      "\u001b[0;31m---------------------------------------------------------------------------\u001b[0m",
      "\u001b[0;31mAssertionError\u001b[0m                            Traceback (most recent call last)",
      "Cell \u001b[0;32mIn[27], line 9\u001b[0m\n\u001b[1;32m      6\u001b[0m     \u001b[38;5;28mprint\u001b[39m(\u001b[38;5;124m'\u001b[39m\u001b[38;5;124mthis is in general case\u001b[39m\u001b[38;5;124m'\u001b[39m)\n\u001b[1;32m      7\u001b[0m     \u001b[38;5;28;01mreturn\u001b[39;00m \u001b[38;5;241m0\u001b[39m\n\u001b[0;32m----> 9\u001b[0m \u001b[43mmyfun\u001b[49m\u001b[43m(\u001b[49m\u001b[38;5;241;43m15\u001b[39;49m\u001b[43m,\u001b[49m\u001b[43m \u001b[49m\u001b[38;5;241;43m6\u001b[39;49m\u001b[43m)\u001b[49m\n",
      "Cell \u001b[0;32mIn[27], line 4\u001b[0m, in \u001b[0;36mmyfun\u001b[0;34m(a, b)\u001b[0m\n\u001b[1;32m      2\u001b[0m \u001b[38;5;28;01mif\u001b[39;00m a \u001b[38;5;241m>\u001b[39m b:\n\u001b[1;32m      3\u001b[0m     \u001b[38;5;28mprint\u001b[39m(\u001b[38;5;124m'\u001b[39m\u001b[38;5;124mbefore exception raise\u001b[39m\u001b[38;5;124m'\u001b[39m)\n\u001b[0;32m----> 4\u001b[0m     \u001b[38;5;28;01mraise\u001b[39;00m \u001b[38;5;167;01mAssertionError\u001b[39;00m\n\u001b[1;32m      5\u001b[0m     \u001b[38;5;28mprint\u001b[39m(\u001b[38;5;124m'\u001b[39m\u001b[38;5;124massertionerror was raised\u001b[39m\u001b[38;5;124m'\u001b[39m)\n\u001b[1;32m      6\u001b[0m \u001b[38;5;28mprint\u001b[39m(\u001b[38;5;124m'\u001b[39m\u001b[38;5;124mthis is in general case\u001b[39m\u001b[38;5;124m'\u001b[39m)\n",
      "\u001b[0;31mAssertionError\u001b[0m: "
     ]
    }
   ],
   "source": [
    "def myfun(a, b):\n",
    "    if a > b:\n",
    "        print('before exception raise')\n",
    "        raise AssertionError\n",
    "        print('assertionerror was raised')\n",
    "    print('this is in general case')\n",
    "    return 0\n",
    "\n",
    "myfun(15, 6)"
   ]
  },
  {
   "cell_type": "markdown",
   "id": "5ff93de0-b197-44e3-b279-637dddeba8b3",
   "metadata": {},
   "source": [
    "### Handling exceptions\n",
    "try and else block"
   ]
  },
  {
   "cell_type": "code",
   "execution_count": 29,
   "id": "e73d6960-a7e5-4f39-9300-5af9eaeae532",
   "metadata": {},
   "outputs": [
    {
     "name": "stdout",
     "output_type": "stream",
     "text": [
      "before exception raise\n",
      "this would lead to errors. please check your values\n"
     ]
    }
   ],
   "source": [
    "try:\n",
    "    myfun(15, 6)\n",
    "except:\n",
    "    print('this would lead to errors. please check your values')"
   ]
  },
  {
   "cell_type": "code",
   "execution_count": 30,
   "id": "5c2fe145-b5b2-49ec-b2a0-b7a00da342d1",
   "metadata": {},
   "outputs": [
    {
     "name": "stdout",
     "output_type": "stream",
     "text": [
      "before exception raise\n",
      "this would lead to AssertionError. please check your values\n"
     ]
    }
   ],
   "source": [
    "try:\n",
    "    myfun(15, 6)\n",
    "except AssertionError:\n",
    "    print('this would lead to AssertionError. please check your values')\n",
    "except ValueError:\n",
    "        print('this would lead to ValueError. please check your values')\n",
    "except:\n",
    "    print('unknown error')"
   ]
  },
  {
   "cell_type": "markdown",
   "id": "b9b990c1-0f72-4302-9b69-50e94e02e568",
   "metadata": {},
   "source": [
    "**full block flow**\n",
    "\n",
    "try:\n",
    "\n",
    "    code that may/may not produce errors\n",
    "except:\n",
    "    \n",
    "    when error arises, then this block of code exceutes\n",
    "else:\n",
    "    \n",
    "    when error doesn't arise, then this block of code exceutes\n",
    "finally:\n",
    "\n",
    "    This block will exceute whether error occurs or not."
   ]
  },
  {
   "cell_type": "code",
   "execution_count": null,
   "id": "31449ad4-6f41-461d-9307-4c0d0f332136",
   "metadata": {},
   "outputs": [],
   "source": []
  }
 ],
 "metadata": {
  "kernelspec": {
   "display_name": "Python 3 (ipykernel)",
   "language": "python",
   "name": "python3"
  },
  "language_info": {
   "codemirror_mode": {
    "name": "ipython",
    "version": 3
   },
   "file_extension": ".py",
   "mimetype": "text/x-python",
   "name": "python",
   "nbconvert_exporter": "python",
   "pygments_lexer": "ipython3",
   "version": "3.8.9"
  }
 },
 "nbformat": 4,
 "nbformat_minor": 5
}
