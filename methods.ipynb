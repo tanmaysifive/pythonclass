{
 "cells": [
  {
   "cell_type": "markdown",
   "id": "3ab71ab0-67df-454c-ab7d-7de3301161ec",
   "metadata": {},
   "source": [
    "**A method is a function which is bound to a class**\n",
    "\n",
    "Instance method:\n",
    "    \n",
    "    The functions associated with a class by default\n",
    "    e.g."
   ]
  },
  {
   "cell_type": "code",
   "execution_count": null,
   "id": "7333fe43-3101-4dd6-8ebb-7b22285ff72d",
   "metadata": {},
   "outputs": [],
   "source": [
    "class Sample:\n",
    "    '''Here __init__ and print_age are instance methods. They are associated with only 1 instance of the class they are defined in.'''\n",
    "    def __init__(self, age):\n",
    "        self.age = age\n",
    "    def print_age(self):\n",
    "        print(self.age)\n",
    "            \n",
    "tanmay = Sample(435)\n",
    "#Here we created an instance. Now you can call a instance method by:\n",
    "tanmay.print_age()\n",
    "#or\n",
    "Sample.print_age(tanmay)"
   ]
  },
  {
   "cell_type": "markdown",
   "id": "6b3a347d-96a8-4f33-8d2a-f22e68faf7f3",
   "metadata": {},
   "source": [
    "In the first example we didn't pass any parameter as an instance method takes the class\n",
    "object as a parameter by default."
   ]
  },
  {
   "cell_type": "markdown",
   "id": "af303d8f-1ac2-431b-b269-0338eb3796c0",
   "metadata": {},
   "source": [
    "Class method:\n",
    "\n",
    "    An instance method is bound to only an instance of the class, whereas a class method is\n",
    "    bound to the class itself. The way to use it is by using the @classmethod declarator\n",
    "    I will show 2 examples\n",
    "    \n",
    "    In the first example the classmethod changes the properties of the whole class, as both \n",
    "    instances get modified with one command\n",
    "    \n",
    "    In the second example the classmethod failed to change the age as it was input by user\n",
    "    and set in the init method"
   ]
  },
  {
   "cell_type": "code",
   "execution_count": 6,
   "id": "41ea9b33-11f4-4390-a2c6-b3da60513772",
   "metadata": {},
   "outputs": [
    {
     "name": "stdout",
     "output_type": "stream",
     "text": [
      "45\n",
      "45\n"
     ]
    }
   ],
   "source": [
    "class Sample:\n",
    "        age = 460\n",
    "        def print_age(self):\n",
    "            print(self.age)\n",
    "        \n",
    "        @classmethod\n",
    "        def change_age(cls, age):\n",
    "            cls.age = age\n",
    "\n",
    "tanmay = Sample()\n",
    "mangesh = Sample()\n",
    "tanmay.change_age(45) #You can also give Sample.change_age(45) as both mean the same\n",
    "tanmay.print_age()\n",
    "mangesh.print_age()"
   ]
  },
  {
   "cell_type": "code",
   "execution_count": 3,
   "id": "13843aca-3f7d-4f21-a0e5-3edd9ccd6cc5",
   "metadata": {},
   "outputs": [
    {
     "name": "stdout",
     "output_type": "stream",
     "text": [
      "34\n",
      "34\n"
     ]
    }
   ],
   "source": [
    "class Sample:\n",
    "        def __init__(self, age):\n",
    "            self.age = age\n",
    "        def print_age(self):\n",
    "            print(self.age)\n",
    "        \n",
    "        @classmethod\n",
    "        def change_age(cls, age):\n",
    "            cls.age = age\n",
    "        \n",
    "Tanmay = Sample(34)\n",
    "Tanmay.print_age()\n",
    "Sample.change_age(45)\n",
    "Tanmay.print_age()"
   ]
  },
  {
   "cell_type": "markdown",
   "id": "38d444fc-ca08-431a-bb73-e292464b7ad0",
   "metadata": {},
   "source": [
    "Static method:\n",
    "    \n",
    "    In instance/class methods python by default takes the object/class as a parameter.\n",
    "    But if we want to define a funciton inside a class which doesn't take itself as a \n",
    "    parameter we use Static method"
   ]
  },
  {
   "cell_type": "code",
   "execution_count": 8,
   "id": "07f758c1-11c0-4d39-b500-ce87b38192ab",
   "metadata": {},
   "outputs": [
    {
     "name": "stdout",
     "output_type": "stream",
     "text": [
      "996969\n"
     ]
    }
   ],
   "source": [
    "class Sample:\n",
    "        def __init__(self, age):\n",
    "            self.age = age\n",
    "        def print_age(self):\n",
    "            print(self.age)\n",
    "        \n",
    "        @classmethod\n",
    "        def change_age(cls, age):\n",
    "            cls.age = age\n",
    "            \n",
    "        @staticmethod\n",
    "        def phone(number):\n",
    "            print(number)\n",
    "    \n",
    "Tanmay = Sample(35)\n",
    "Tanmay.phone(996969)"
   ]
  },
  {
   "cell_type": "code",
   "execution_count": null,
   "id": "6904999a-ba03-47ca-b7aa-82496fb88e6e",
   "metadata": {},
   "outputs": [],
   "source": []
  }
 ],
 "metadata": {
  "kernelspec": {
   "display_name": "Python 3 (ipykernel)",
   "language": "python",
   "name": "python3"
  },
  "language_info": {
   "codemirror_mode": {
    "name": "ipython",
    "version": 3
   },
   "file_extension": ".py",
   "mimetype": "text/x-python",
   "name": "python",
   "nbconvert_exporter": "python",
   "pygments_lexer": "ipython3",
   "version": "3.8.9"
  }
 },
 "nbformat": 4,
 "nbformat_minor": 5
}
